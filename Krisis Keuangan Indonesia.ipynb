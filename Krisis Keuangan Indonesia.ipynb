{
 "cells": [
  {
   "cell_type": "markdown",
   "metadata": {},
   "source": [
    "# Import Library"
   ]
  },
  {
   "cell_type": "code",
   "execution_count": 1,
   "metadata": {},
   "outputs": [],
   "source": [
    "import pandas as pd\n",
    "import numpy as np\n",
    "import matplotlib.pyplot as plt\n",
    "import seaborn as sns"
   ]
  },
  {
   "cell_type": "markdown",
   "metadata": {},
   "source": [
    "# Load Data"
   ]
  },
  {
   "cell_type": "code",
   "execution_count": 2,
   "metadata": {},
   "outputs": [],
   "source": [
    "df = pd.read_csv('data.csv', sep =';')"
   ]
  },
  {
   "cell_type": "markdown",
   "metadata": {},
   "source": [
    "# Review Data"
   ]
  },
  {
   "cell_type": "code",
   "execution_count": 3,
   "metadata": {},
   "outputs": [
    {
     "data": {
      "text/html": [
       "<div>\n",
       "<style scoped>\n",
       "    .dataframe tbody tr th:only-of-type {\n",
       "        vertical-align: middle;\n",
       "    }\n",
       "\n",
       "    .dataframe tbody tr th {\n",
       "        vertical-align: top;\n",
       "    }\n",
       "\n",
       "    .dataframe thead th {\n",
       "        text-align: right;\n",
       "    }\n",
       "</style>\n",
       "<table border=\"1\" class=\"dataframe\">\n",
       "  <thead>\n",
       "    <tr style=\"text-align: right;\">\n",
       "      <th></th>\n",
       "      <th>Id</th>\n",
       "      <th>Ekspor</th>\n",
       "      <th>Cadangan Devisa</th>\n",
       "      <th>IHSG</th>\n",
       "      <th>Selisih Pinjaman dan Simpanan</th>\n",
       "      <th>Suku Bunga Simpanan Riil</th>\n",
       "      <th>Selisih BI Rate Riil dan FED Rate Riil</th>\n",
       "      <th>Simpanan bank</th>\n",
       "      <th>Nilai Tukar Riil</th>\n",
       "      <th>Nilai Tukar Perdagangan</th>\n",
       "      <th>M1</th>\n",
       "      <th>M2/Cadangan Devisa</th>\n",
       "      <th>M2M</th>\n",
       "      <th>Krisis</th>\n",
       "    </tr>\n",
       "  </thead>\n",
       "  <tbody>\n",
       "    <tr>\n",
       "      <th>0</th>\n",
       "      <td>0</td>\n",
       "      <td>1845.2</td>\n",
       "      <td>6068.20</td>\n",
       "      <td>504.27</td>\n",
       "      <td>1.24</td>\n",
       "      <td>15.56</td>\n",
       "      <td>4.36</td>\n",
       "      <td>14.567329</td>\n",
       "      <td>376.63</td>\n",
       "      <td>1.2366</td>\n",
       "      <td>10.66</td>\n",
       "      <td>0.0055</td>\n",
       "      <td>6.46</td>\n",
       "      <td>1</td>\n",
       "    </tr>\n",
       "    <tr>\n",
       "      <th>1</th>\n",
       "      <td>1</td>\n",
       "      <td>2055.0</td>\n",
       "      <td>6259.10</td>\n",
       "      <td>612.20</td>\n",
       "      <td>1.24</td>\n",
       "      <td>16.63</td>\n",
       "      <td>5.83</td>\n",
       "      <td>16.707625</td>\n",
       "      <td>375.39</td>\n",
       "      <td>1.2129</td>\n",
       "      <td>12.15</td>\n",
       "      <td>0.0056</td>\n",
       "      <td>6.16</td>\n",
       "      <td>1</td>\n",
       "    </tr>\n",
       "    <tr>\n",
       "      <th>2</th>\n",
       "      <td>4</td>\n",
       "      <td>1750.0</td>\n",
       "      <td>5767.50</td>\n",
       "      <td>624.33</td>\n",
       "      <td>1.22</td>\n",
       "      <td>14.77</td>\n",
       "      <td>7.92</td>\n",
       "      <td>16.067787</td>\n",
       "      <td>388.69</td>\n",
       "      <td>1.0374</td>\n",
       "      <td>12.58</td>\n",
       "      <td>0.0066</td>\n",
       "      <td>6.77</td>\n",
       "      <td>0</td>\n",
       "    </tr>\n",
       "    <tr>\n",
       "      <th>3</th>\n",
       "      <td>5</td>\n",
       "      <td>1812.0</td>\n",
       "      <td>6392.70</td>\n",
       "      <td>614.41</td>\n",
       "      <td>1.19</td>\n",
       "      <td>14.29</td>\n",
       "      <td>7.91</td>\n",
       "      <td>16.274743</td>\n",
       "      <td>396.82</td>\n",
       "      <td>1.0315</td>\n",
       "      <td>12.23</td>\n",
       "      <td>0.0060</td>\n",
       "      <td>7.04</td>\n",
       "      <td>0</td>\n",
       "    </tr>\n",
       "    <tr>\n",
       "      <th>4</th>\n",
       "      <td>6</td>\n",
       "      <td>2124.0</td>\n",
       "      <td>6615.60</td>\n",
       "      <td>556.34</td>\n",
       "      <td>1.18</td>\n",
       "      <td>16.66</td>\n",
       "      <td>9.74</td>\n",
       "      <td>16.913348</td>\n",
       "      <td>397.52</td>\n",
       "      <td>1.0400</td>\n",
       "      <td>12.08</td>\n",
       "      <td>0.0060</td>\n",
       "      <td>6.76</td>\n",
       "      <td>0</td>\n",
       "    </tr>\n",
       "    <tr>\n",
       "      <th>...</th>\n",
       "      <td>...</td>\n",
       "      <td>...</td>\n",
       "      <td>...</td>\n",
       "      <td>...</td>\n",
       "      <td>...</td>\n",
       "      <td>...</td>\n",
       "      <td>...</td>\n",
       "      <td>...</td>\n",
       "      <td>...</td>\n",
       "      <td>...</td>\n",
       "      <td>...</td>\n",
       "      <td>...</td>\n",
       "      <td>...</td>\n",
       "      <td>...</td>\n",
       "    </tr>\n",
       "    <tr>\n",
       "      <th>265</th>\n",
       "      <td>347</td>\n",
       "      <td>13927.9</td>\n",
       "      <td>120075.16</td>\n",
       "      <td>6532.97</td>\n",
       "      <td>1.52</td>\n",
       "      <td>6.58</td>\n",
       "      <td>3.49</td>\n",
       "      <td>328.414357</td>\n",
       "      <td>18191.69</td>\n",
       "      <td>0.9291</td>\n",
       "      <td>97.89</td>\n",
       "      <td>0.0033</td>\n",
       "      <td>5.61</td>\n",
       "      <td>0</td>\n",
       "    </tr>\n",
       "    <tr>\n",
       "      <th>266</th>\n",
       "      <td>348</td>\n",
       "      <td>12555.9</td>\n",
       "      <td>123273.87</td>\n",
       "      <td>6443.35</td>\n",
       "      <td>1.53</td>\n",
       "      <td>6.99</td>\n",
       "      <td>4.13</td>\n",
       "      <td>330.319123</td>\n",
       "      <td>18087.59</td>\n",
       "      <td>1.0270</td>\n",
       "      <td>98.64</td>\n",
       "      <td>0.0033</td>\n",
       "      <td>5.77</td>\n",
       "      <td>0</td>\n",
       "    </tr>\n",
       "    <tr>\n",
       "      <th>267</th>\n",
       "      <td>349</td>\n",
       "      <td>14121.9</td>\n",
       "      <td>124539.31</td>\n",
       "      <td>6468.76</td>\n",
       "      <td>1.53</td>\n",
       "      <td>6.74</td>\n",
       "      <td>4.08</td>\n",
       "      <td>328.479665</td>\n",
       "      <td>18239.04</td>\n",
       "      <td>1.0499</td>\n",
       "      <td>100.14</td>\n",
       "      <td>0.0032</td>\n",
       "      <td>5.78</td>\n",
       "      <td>0</td>\n",
       "    </tr>\n",
       "    <tr>\n",
       "      <th>268</th>\n",
       "      <td>350</td>\n",
       "      <td>13112.7</td>\n",
       "      <td>124293.82</td>\n",
       "      <td>6455.35</td>\n",
       "      <td>1.54</td>\n",
       "      <td>6.39</td>\n",
       "      <td>3.72</td>\n",
       "      <td>330.069829</td>\n",
       "      <td>18186.00</td>\n",
       "      <td>0.8515</td>\n",
       "      <td>102.12</td>\n",
       "      <td>0.0033</td>\n",
       "      <td>5.66</td>\n",
       "      <td>0</td>\n",
       "    </tr>\n",
       "    <tr>\n",
       "      <th>269</th>\n",
       "      <td>351</td>\n",
       "      <td>14825.2</td>\n",
       "      <td>120347.15</td>\n",
       "      <td>6209.12</td>\n",
       "      <td>1.54</td>\n",
       "      <td>6.11</td>\n",
       "      <td>3.16</td>\n",
       "      <td>330.612337</td>\n",
       "      <td>18489.54</td>\n",
       "      <td>1.0150</td>\n",
       "      <td>104.84</td>\n",
       "      <td>0.0034</td>\n",
       "      <td>5.11</td>\n",
       "      <td>0</td>\n",
       "    </tr>\n",
       "  </tbody>\n",
       "</table>\n",
       "<p>270 rows × 14 columns</p>\n",
       "</div>"
      ],
      "text/plain": [
       "      Id   Ekspor  Cadangan Devisa     IHSG  Selisih Pinjaman dan Simpanan  \\\n",
       "0      0   1845.2          6068.20   504.27                           1.24   \n",
       "1      1   2055.0          6259.10   612.20                           1.24   \n",
       "2      4   1750.0          5767.50   624.33                           1.22   \n",
       "3      5   1812.0          6392.70   614.41                           1.19   \n",
       "4      6   2124.0          6615.60   556.34                           1.18   \n",
       "..   ...      ...              ...      ...                            ...   \n",
       "265  347  13927.9        120075.16  6532.97                           1.52   \n",
       "266  348  12555.9        123273.87  6443.35                           1.53   \n",
       "267  349  14121.9        124539.31  6468.76                           1.53   \n",
       "268  350  13112.7        124293.82  6455.35                           1.54   \n",
       "269  351  14825.2        120347.15  6209.12                           1.54   \n",
       "\n",
       "     Suku Bunga Simpanan Riil  Selisih BI Rate Riil dan FED Rate Riil  \\\n",
       "0                       15.56                                    4.36   \n",
       "1                       16.63                                    5.83   \n",
       "2                       14.77                                    7.92   \n",
       "3                       14.29                                    7.91   \n",
       "4                       16.66                                    9.74   \n",
       "..                        ...                                     ...   \n",
       "265                      6.58                                    3.49   \n",
       "266                      6.99                                    4.13   \n",
       "267                      6.74                                    4.08   \n",
       "268                      6.39                                    3.72   \n",
       "269                      6.11                                    3.16   \n",
       "\n",
       "     Simpanan bank   Nilai Tukar Riil  Nilai Tukar Perdagangan      M1  \\\n",
       "0         14.567329            376.63                   1.2366   10.66   \n",
       "1         16.707625            375.39                   1.2129   12.15   \n",
       "2         16.067787            388.69                   1.0374   12.58   \n",
       "3         16.274743            396.82                   1.0315   12.23   \n",
       "4         16.913348            397.52                   1.0400   12.08   \n",
       "..              ...               ...                      ...     ...   \n",
       "265      328.414357          18191.69                   0.9291   97.89   \n",
       "266      330.319123          18087.59                   1.0270   98.64   \n",
       "267      328.479665          18239.04                   1.0499  100.14   \n",
       "268      330.069829          18186.00                   0.8515  102.12   \n",
       "269      330.612337          18489.54                   1.0150  104.84   \n",
       "\n",
       "     M2/Cadangan Devisa   M2M  Krisis  \n",
       "0                0.0055  6.46       1  \n",
       "1                0.0056  6.16       1  \n",
       "2                0.0066  6.77       0  \n",
       "3                0.0060  7.04       0  \n",
       "4                0.0060  6.76       0  \n",
       "..                  ...   ...     ...  \n",
       "265              0.0033  5.61       0  \n",
       "266              0.0033  5.77       0  \n",
       "267              0.0032  5.78       0  \n",
       "268              0.0033  5.66       0  \n",
       "269              0.0034  5.11       0  \n",
       "\n",
       "[270 rows x 14 columns]"
      ]
     },
     "execution_count": 3,
     "metadata": {},
     "output_type": "execute_result"
    }
   ],
   "source": [
    "df"
   ]
  },
  {
   "cell_type": "code",
   "execution_count": 4,
   "metadata": {},
   "outputs": [
    {
     "name": "stdout",
     "output_type": "stream",
     "text": [
      "<class 'pandas.core.frame.DataFrame'>\n",
      "RangeIndex: 270 entries, 0 to 269\n",
      "Data columns (total 14 columns):\n",
      " #   Column                                  Non-Null Count  Dtype  \n",
      "---  ------                                  --------------  -----  \n",
      " 0   Id                                      270 non-null    int64  \n",
      " 1   Ekspor                                  270 non-null    float64\n",
      " 2   Cadangan Devisa                         270 non-null    float64\n",
      " 3   IHSG                                    270 non-null    float64\n",
      " 4   Selisih Pinjaman dan Simpanan           270 non-null    float64\n",
      " 5   Suku Bunga Simpanan Riil                270 non-null    float64\n",
      " 6   Selisih BI Rate Riil dan FED Rate Riil  270 non-null    float64\n",
      " 7   Simpanan bank                           270 non-null    float64\n",
      " 8   Nilai Tukar Riil                        270 non-null    float64\n",
      " 9   Nilai Tukar Perdagangan                 270 non-null    float64\n",
      " 10  M1                                      270 non-null    float64\n",
      " 11  M2/Cadangan Devisa                      270 non-null    float64\n",
      " 12  M2M                                     270 non-null    float64\n",
      " 13  Krisis                                  270 non-null    int64  \n",
      "dtypes: float64(12), int64(2)\n",
      "memory usage: 29.7 KB\n"
     ]
    }
   ],
   "source": [
    "df.info()"
   ]
  },
  {
   "cell_type": "code",
   "execution_count": 5,
   "metadata": {},
   "outputs": [
    {
     "data": {
      "text/plain": [
       "(270, 14)"
      ]
     },
     "execution_count": 5,
     "metadata": {},
     "output_type": "execute_result"
    }
   ],
   "source": [
    "df.shape"
   ]
  },
  {
   "cell_type": "code",
   "execution_count": 6,
   "metadata": {},
   "outputs": [
    {
     "data": {
      "text/html": [
       "<div>\n",
       "<style scoped>\n",
       "    .dataframe tbody tr th:only-of-type {\n",
       "        vertical-align: middle;\n",
       "    }\n",
       "\n",
       "    .dataframe tbody tr th {\n",
       "        vertical-align: top;\n",
       "    }\n",
       "\n",
       "    .dataframe thead th {\n",
       "        text-align: right;\n",
       "    }\n",
       "</style>\n",
       "<table border=\"1\" class=\"dataframe\">\n",
       "  <thead>\n",
       "    <tr style=\"text-align: right;\">\n",
       "      <th></th>\n",
       "      <th>Id</th>\n",
       "      <th>Ekspor</th>\n",
       "      <th>Cadangan Devisa</th>\n",
       "      <th>IHSG</th>\n",
       "      <th>Selisih Pinjaman dan Simpanan</th>\n",
       "      <th>Suku Bunga Simpanan Riil</th>\n",
       "      <th>Selisih BI Rate Riil dan FED Rate Riil</th>\n",
       "      <th>Simpanan bank</th>\n",
       "      <th>Nilai Tukar Riil</th>\n",
       "      <th>Nilai Tukar Perdagangan</th>\n",
       "      <th>M1</th>\n",
       "      <th>M2/Cadangan Devisa</th>\n",
       "      <th>M2M</th>\n",
       "      <th>Krisis</th>\n",
       "    </tr>\n",
       "  </thead>\n",
       "  <tbody>\n",
       "    <tr>\n",
       "      <th>count</th>\n",
       "      <td>270.000000</td>\n",
       "      <td>270.000000</td>\n",
       "      <td>270.000000</td>\n",
       "      <td>270.000000</td>\n",
       "      <td>270.000000</td>\n",
       "      <td>270.000000</td>\n",
       "      <td>270.000000</td>\n",
       "      <td>270.000000</td>\n",
       "      <td>270.000000</td>\n",
       "      <td>270.000000</td>\n",
       "      <td>270.000000</td>\n",
       "      <td>270.000000</td>\n",
       "      <td>270.000000</td>\n",
       "      <td>270.000000</td>\n",
       "    </tr>\n",
       "    <tr>\n",
       "      <th>mean</th>\n",
       "      <td>174.429630</td>\n",
       "      <td>8247.868963</td>\n",
       "      <td>53516.383556</td>\n",
       "      <td>2071.609444</td>\n",
       "      <td>1.500222</td>\n",
       "      <td>12.016000</td>\n",
       "      <td>8.328000</td>\n",
       "      <td>134.058398</td>\n",
       "      <td>7232.566259</td>\n",
       "      <td>1.225759</td>\n",
       "      <td>41.406296</td>\n",
       "      <td>0.003716</td>\n",
       "      <td>6.763333</td>\n",
       "      <td>0.111111</td>\n",
       "    </tr>\n",
       "    <tr>\n",
       "      <th>std</th>\n",
       "      <td>101.887141</td>\n",
       "      <td>4853.028611</td>\n",
       "      <td>41132.468503</td>\n",
       "      <td>2014.293535</td>\n",
       "      <td>0.333443</td>\n",
       "      <td>7.509484</td>\n",
       "      <td>7.233576</td>\n",
       "      <td>100.175825</td>\n",
       "      <td>5550.579030</td>\n",
       "      <td>0.214566</td>\n",
       "      <td>29.628941</td>\n",
       "      <td>0.001151</td>\n",
       "      <td>5.115211</td>\n",
       "      <td>0.314853</td>\n",
       "    </tr>\n",
       "    <tr>\n",
       "      <th>min</th>\n",
       "      <td>0.000000</td>\n",
       "      <td>1750.000000</td>\n",
       "      <td>5767.500000</td>\n",
       "      <td>226.680000</td>\n",
       "      <td>0.660000</td>\n",
       "      <td>0.680000</td>\n",
       "      <td>1.250000</td>\n",
       "      <td>14.567329</td>\n",
       "      <td>375.390000</td>\n",
       "      <td>0.851500</td>\n",
       "      <td>7.350000</td>\n",
       "      <td>0.002000</td>\n",
       "      <td>4.190000</td>\n",
       "      <td>0.000000</td>\n",
       "    </tr>\n",
       "    <tr>\n",
       "      <th>25%</th>\n",
       "      <td>88.250000</td>\n",
       "      <td>4082.750000</td>\n",
       "      <td>19042.000000</td>\n",
       "      <td>462.717500</td>\n",
       "      <td>1.220000</td>\n",
       "      <td>6.622500</td>\n",
       "      <td>5.107500</td>\n",
       "      <td>58.468779</td>\n",
       "      <td>742.267500</td>\n",
       "      <td>1.063950</td>\n",
       "      <td>16.475000</td>\n",
       "      <td>0.003000</td>\n",
       "      <td>5.020000</td>\n",
       "      <td>0.000000</td>\n",
       "    </tr>\n",
       "    <tr>\n",
       "      <th>50%</th>\n",
       "      <td>172.500000</td>\n",
       "      <td>6261.415000</td>\n",
       "      <td>34816.185000</td>\n",
       "      <td>759.030000</td>\n",
       "      <td>1.505000</td>\n",
       "      <td>10.395000</td>\n",
       "      <td>6.515000</td>\n",
       "      <td>83.851499</td>\n",
       "      <td>6753.570000</td>\n",
       "      <td>1.166350</td>\n",
       "      <td>26.455000</td>\n",
       "      <td>0.003200</td>\n",
       "      <td>6.180000</td>\n",
       "      <td>0.000000</td>\n",
       "    </tr>\n",
       "    <tr>\n",
       "      <th>75%</th>\n",
       "      <td>262.750000</td>\n",
       "      <td>12936.765000</td>\n",
       "      <td>102477.375000</td>\n",
       "      <td>3916.700000</td>\n",
       "      <td>1.760000</td>\n",
       "      <td>15.330000</td>\n",
       "      <td>8.822500</td>\n",
       "      <td>245.694303</td>\n",
       "      <td>10000.275000</td>\n",
       "      <td>1.373825</td>\n",
       "      <td>73.185000</td>\n",
       "      <td>0.004600</td>\n",
       "      <td>7.900000</td>\n",
       "      <td>0.000000</td>\n",
       "    </tr>\n",
       "    <tr>\n",
       "      <th>max</th>\n",
       "      <td>351.000000</td>\n",
       "      <td>18530.800000</td>\n",
       "      <td>130196.380000</td>\n",
       "      <td>6597.220000</td>\n",
       "      <td>2.410000</td>\n",
       "      <td>52.980000</td>\n",
       "      <td>59.880000</td>\n",
       "      <td>330.612337</td>\n",
       "      <td>19358.390000</td>\n",
       "      <td>1.857700</td>\n",
       "      <td>104.840000</td>\n",
       "      <td>0.006600</td>\n",
       "      <td>86.970000</td>\n",
       "      <td>1.000000</td>\n",
       "    </tr>\n",
       "  </tbody>\n",
       "</table>\n",
       "</div>"
      ],
      "text/plain": [
       "               Id        Ekspor  Cadangan Devisa         IHSG  \\\n",
       "count  270.000000    270.000000       270.000000   270.000000   \n",
       "mean   174.429630   8247.868963     53516.383556  2071.609444   \n",
       "std    101.887141   4853.028611     41132.468503  2014.293535   \n",
       "min      0.000000   1750.000000      5767.500000   226.680000   \n",
       "25%     88.250000   4082.750000     19042.000000   462.717500   \n",
       "50%    172.500000   6261.415000     34816.185000   759.030000   \n",
       "75%    262.750000  12936.765000    102477.375000  3916.700000   \n",
       "max    351.000000  18530.800000    130196.380000  6597.220000   \n",
       "\n",
       "       Selisih Pinjaman dan Simpanan  Suku Bunga Simpanan Riil  \\\n",
       "count                     270.000000                270.000000   \n",
       "mean                        1.500222                 12.016000   \n",
       "std                         0.333443                  7.509484   \n",
       "min                         0.660000                  0.680000   \n",
       "25%                         1.220000                  6.622500   \n",
       "50%                         1.505000                 10.395000   \n",
       "75%                         1.760000                 15.330000   \n",
       "max                         2.410000                 52.980000   \n",
       "\n",
       "       Selisih BI Rate Riil dan FED Rate Riil  Simpanan bank   \\\n",
       "count                              270.000000      270.000000   \n",
       "mean                                 8.328000      134.058398   \n",
       "std                                  7.233576      100.175825   \n",
       "min                                  1.250000       14.567329   \n",
       "25%                                  5.107500       58.468779   \n",
       "50%                                  6.515000       83.851499   \n",
       "75%                                  8.822500      245.694303   \n",
       "max                                 59.880000      330.612337   \n",
       "\n",
       "       Nilai Tukar Riil  Nilai Tukar Perdagangan          M1  \\\n",
       "count        270.000000               270.000000  270.000000   \n",
       "mean        7232.566259                 1.225759   41.406296   \n",
       "std         5550.579030                 0.214566   29.628941   \n",
       "min          375.390000                 0.851500    7.350000   \n",
       "25%          742.267500                 1.063950   16.475000   \n",
       "50%         6753.570000                 1.166350   26.455000   \n",
       "75%        10000.275000                 1.373825   73.185000   \n",
       "max        19358.390000                 1.857700  104.840000   \n",
       "\n",
       "       M2/Cadangan Devisa         M2M      Krisis  \n",
       "count          270.000000  270.000000  270.000000  \n",
       "mean             0.003716    6.763333    0.111111  \n",
       "std              0.001151    5.115211    0.314853  \n",
       "min              0.002000    4.190000    0.000000  \n",
       "25%              0.003000    5.020000    0.000000  \n",
       "50%              0.003200    6.180000    0.000000  \n",
       "75%              0.004600    7.900000    0.000000  \n",
       "max              0.006600   86.970000    1.000000  "
      ]
     },
     "execution_count": 6,
     "metadata": {},
     "output_type": "execute_result"
    }
   ],
   "source": [
    "df.describe()"
   ]
  },
  {
   "cell_type": "markdown",
   "metadata": {},
   "source": [
    "# Data Cleaning"
   ]
  },
  {
   "cell_type": "markdown",
   "metadata": {},
   "source": [
    "## Checking Duplicates Data"
   ]
  },
  {
   "cell_type": "code",
   "execution_count": 7,
   "metadata": {},
   "outputs": [],
   "source": [
    "df.drop_duplicates(inplace = True)"
   ]
  },
  {
   "cell_type": "code",
   "execution_count": 8,
   "metadata": {},
   "outputs": [
    {
     "data": {
      "text/plain": [
       "(270, 14)"
      ]
     },
     "execution_count": 8,
     "metadata": {},
     "output_type": "execute_result"
    }
   ],
   "source": [
    "df.shape"
   ]
  },
  {
   "cell_type": "markdown",
   "metadata": {},
   "source": [
    "## Checking Missing Values"
   ]
  },
  {
   "cell_type": "code",
   "execution_count": 9,
   "metadata": {},
   "outputs": [
    {
     "data": {
      "text/plain": [
       "Id                                        0\n",
       "Ekspor                                    0\n",
       "Cadangan Devisa                           0\n",
       "IHSG                                      0\n",
       "Selisih Pinjaman dan Simpanan             0\n",
       "Suku Bunga Simpanan Riil                  0\n",
       "Selisih BI Rate Riil dan FED Rate Riil    0\n",
       "Simpanan bank                             0\n",
       "Nilai Tukar Riil                          0\n",
       "Nilai Tukar Perdagangan                   0\n",
       "M1                                        0\n",
       "M2/Cadangan Devisa                        0\n",
       "M2M                                       0\n",
       "Krisis                                    0\n",
       "dtype: int64"
      ]
     },
     "execution_count": 9,
     "metadata": {},
     "output_type": "execute_result"
    }
   ],
   "source": [
    "df.isnull().sum()"
   ]
  },
  {
   "cell_type": "code",
   "execution_count": 10,
   "metadata": {},
   "outputs": [
    {
     "data": {
      "image/png": "[encoded data removed]",
      "text/plain": [
       "<Figure size 1152x720 with 2 Axes>"
      ]
     },
     "metadata": {
      "needs_background": "light"
     },
     "output_type": "display_data"
    }
   ],
   "source": [
    "# Let's check the correlation coefficients to see which variables are highly correlated\n",
    "plt.figure(figsize = (16, 10))\n",
    "sns.heatmap(df.corr(), annot = True, cmap=\"YlGnBu\")\n",
    "plt.show()"
   ]
  },
  {
   "cell_type": "markdown",
   "metadata": {},
   "source": [
    "## Outlier Detection"
   ]
  },
  {
   "cell_type": "code",
   "execution_count": 11,
   "metadata": {},
   "outputs": [],
   "source": [
    "def outlier(sample):\n",
    "    Q1=sample.quantile(0.25)\n",
    "    Q3=sample.quantile(0.75)\n",
    "    IQR=Q3-Q1\n",
    "    lower_range = Q1 -(1.5 * IQR)\n",
    "    upper_range = Q3 +(1.5 * IQR)\n",
    "    number_outlier=len(sample[sample>upper_range])+len(sample[sample<lower_range])\n",
    "    print(\"Number of Outlier {}\".format(number_outlier))\n",
    "    if number_outlier>0:\n",
    "        print(\"Outlier observation row:\")\n",
    "    else:\n",
    "        pass\n",
    "    for i in range(len(sample)):\n",
    "        if sample[i]<lower_range: \n",
    "            print(i)\n",
    "        elif sample[i]>upper_range:\n",
    "            print(i)\n",
    "        else:\n",
    "            pass"
   ]
  },
  {
   "cell_type": "markdown",
   "metadata": {},
   "source": [
    "### "
   ]
  },
  {
   "cell_type": "code",
   "execution_count": 12,
   "metadata": {},
   "outputs": [
    {
     "name": "stdout",
     "output_type": "stream",
     "text": [
      "Number of Outlier 0\n"
     ]
    }
   ],
   "source": [
    "outlier(df['Ekspor'])"
   ]
  },
  {
   "cell_type": "code",
   "execution_count": 14,
   "metadata": {},
   "outputs": [
    {
     "name": "stderr",
     "output_type": "stream",
     "text": [
      "C:\\Users\\user\\anaconda3\\lib\\site-packages\\seaborn\\_decorators.py:36: FutureWarning: Pass the following variable as a keyword arg: x. From version 0.12, the only valid positional argument will be `data`, and passing other arguments without an explicit keyword will result in an error or misinterpretation.\n",
      "  warnings.warn(\n",
      "C:\\Users\\user\\anaconda3\\lib\\site-packages\\seaborn\\_decorators.py:36: FutureWarning: Pass the following variable as a keyword arg: x. From version 0.12, the only valid positional argument will be `data`, and passing other arguments without an explicit keyword will result in an error or misinterpretation.\n",
      "  warnings.warn(\n",
      "C:\\Users\\user\\anaconda3\\lib\\site-packages\\seaborn\\_decorators.py:36: FutureWarning: Pass the following variable as a keyword arg: x. From version 0.12, the only valid positional argument will be `data`, and passing other arguments without an explicit keyword will result in an error or misinterpretation.\n",
      "  warnings.warn(\n",
      "C:\\Users\\user\\anaconda3\\lib\\site-packages\\seaborn\\_decorators.py:36: FutureWarning: Pass the following variable as a keyword arg: x. From version 0.12, the only valid positional argument will be `data`, and passing other arguments without an explicit keyword will result in an error or misinterpretation.\n",
      "  warnings.warn(\n",
      "C:\\Users\\user\\anaconda3\\lib\\site-packages\\seaborn\\_decorators.py:36: FutureWarning: Pass the following variable as a keyword arg: x. From version 0.12, the only valid positional argument will be `data`, and passing other arguments without an explicit keyword will result in an error or misinterpretation.\n",
      "  warnings.warn(\n",
      "C:\\Users\\user\\anaconda3\\lib\\site-packages\\seaborn\\_decorators.py:36: FutureWarning: Pass the following variable as a keyword arg: x. From version 0.12, the only valid positional argument will be `data`, and passing other arguments without an explicit keyword will result in an error or misinterpretation.\n",
      "  warnings.warn(\n",
      "C:\\Users\\user\\anaconda3\\lib\\site-packages\\seaborn\\_decorators.py:36: FutureWarning: Pass the following variable as a keyword arg: x. From version 0.12, the only valid positional argument will be `data`, and passing other arguments without an explicit keyword will result in an error or misinterpretation.\n",
      "  warnings.warn(\n",
      "C:\\Users\\user\\anaconda3\\lib\\site-packages\\seaborn\\_decorators.py:36: FutureWarning: Pass the following variable as a keyword arg: x. From version 0.12, the only valid positional argument will be `data`, and passing other arguments without an explicit keyword will result in an error or misinterpretation.\n",
      "  warnings.warn(\n",
      "C:\\Users\\user\\anaconda3\\lib\\site-packages\\seaborn\\_decorators.py:36: FutureWarning: Pass the following variable as a keyword arg: x. From version 0.12, the only valid positional argument will be `data`, and passing other arguments without an explicit keyword will result in an error or misinterpretation.\n",
      "  warnings.warn(\n",
      "C:\\Users\\user\\anaconda3\\lib\\site-packages\\seaborn\\_decorators.py:36: FutureWarning: Pass the following variable as a keyword arg: x. From version 0.12, the only valid positional argument will be `data`, and passing other arguments without an explicit keyword will result in an error or misinterpretation.\n",
      "  warnings.warn(\n",
      "C:\\Users\\user\\anaconda3\\lib\\site-packages\\seaborn\\_decorators.py:36: FutureWarning: Pass the following variable as a keyword arg: x. From version 0.12, the only valid positional argument will be `data`, and passing other arguments without an explicit keyword will result in an error or misinterpretation.\n",
      "  warnings.warn(\n",
      "C:\\Users\\user\\anaconda3\\lib\\site-packages\\seaborn\\_decorators.py:36: FutureWarning: Pass the following variable as a keyword arg: x. From version 0.12, the only valid positional argument will be `data`, and passing other arguments without an explicit keyword will result in an error or misinterpretation.\n",
      "  warnings.warn(\n"
     ]
    },
    {
     "data": {
      "image/png": "[encoded data removed]",
      "text/plain": [
       "<Figure size 1800x1080 with 12 Axes>"
      ]
     },
     "metadata": {
      "needs_background": "light"
     },
     "output_type": "display_data"
    }
   ],
   "source": [
    "fig, axs = plt.subplots(4,3, figsize = (25,15))\n",
    "plt1 = sns.boxplot(df['Ekspor'], ax = axs[0,0])\n",
    "plt2 = sns.boxplot(df['Cadangan Devisa'], ax = axs[0,1])\n",
    "plt3 = sns.boxplot(df['IHSG'], ax = axs[0,2])\n",
    "plt4 = sns.boxplot(df['Selisih Pinjaman dan Simpanan'], ax = axs[1,0])\n",
    "plt5 = sns.boxplot(df['Suku Bunga Simpanan Riil'], ax = axs[1,1])\n",
    "plt6 = sns.boxplot(df['Selisih BI Rate Riil dan FED Rate Riil'], ax = axs[1,2])\n",
    "plt7 = sns.boxplot(df['Simpanan bank '], ax = axs[2,0])\n",
    "plt8 = sns.boxplot(df['Nilai Tukar Riil'], ax = axs[2,1])\n",
    "plt9 = sns.boxplot(df['Nilai Tukar Perdagangan'], ax = axs[2,2])\n",
    "plt10 = sns.boxplot(df['M1'], ax = axs[3,0])\n",
    "plt11 = sns.boxplot(df['M2/Cadangan Devisa'], ax = axs[3,1])\n",
    "plt12 = sns.boxplot(df['M2M'], ax = axs[3,2])\n",
    "\n",
    "plt.tight_layout()\n",
    "plt.show()"
   ]
  },
  {
   "cell_type": "code",
   "execution_count": 15,
   "metadata": {},
   "outputs": [
    {
     "name": "stdout",
     "output_type": "stream",
     "text": [
      "Number of Outlier 12\n",
      "Outlier observation row:\n",
      "70\n",
      "75\n",
      "76\n",
      "77\n",
      "78\n",
      "79\n",
      "80\n",
      "81\n",
      "82\n",
      "83\n",
      "84\n",
      "85\n"
     ]
    }
   ],
   "source": [
    "outlier(df['Selisih BI Rate Riil dan FED Rate Riil'])"
   ]
  },
  {
   "cell_type": "code",
   "execution_count": 16,
   "metadata": {},
   "outputs": [
    {
     "name": "stdout",
     "output_type": "stream",
     "text": [
      "Number of Outlier 0\n"
     ]
    }
   ],
   "source": [
    "outlier(df['Simpanan bank '])"
   ]
  },
  {
   "cell_type": "code",
   "execution_count": 17,
   "metadata": {},
   "outputs": [
    {
     "name": "stdout",
     "output_type": "stream",
     "text": [
      "Number of Outlier 0\n"
     ]
    }
   ],
   "source": [
    "outlier(df['Nilai Tukar Riil'])"
   ]
  },
  {
   "cell_type": "code",
   "execution_count": 18,
   "metadata": {},
   "outputs": [
    {
     "name": "stdout",
     "output_type": "stream",
     "text": [
      "Number of Outlier 1\n",
      "Outlier observation row:\n",
      "93\n"
     ]
    }
   ],
   "source": [
    "outlier(df['Nilai Tukar Perdagangan'])"
   ]
  },
  {
   "cell_type": "code",
   "execution_count": 19,
   "metadata": {},
   "outputs": [
    {
     "name": "stdout",
     "output_type": "stream",
     "text": [
      "Number of Outlier 0\n"
     ]
    }
   ],
   "source": [
    "outlier(df['M1'])"
   ]
  },
  {
   "cell_type": "code",
   "execution_count": 20,
   "metadata": {},
   "outputs": [
    {
     "name": "stdout",
     "output_type": "stream",
     "text": [
      "Number of Outlier 0\n"
     ]
    }
   ],
   "source": [
    "outlier(df['M2/Cadangan Devisa'])"
   ]
  },
  {
   "cell_type": "code",
   "execution_count": 21,
   "metadata": {},
   "outputs": [
    {
     "name": "stdout",
     "output_type": "stream",
     "text": [
      "Number of Outlier 1\n",
      "Outlier observation row:\n",
      "30\n"
     ]
    }
   ],
   "source": [
    "outlier(df['M2M'])"
   ]
  },
  {
   "cell_type": "code",
   "execution_count": 22,
   "metadata": {},
   "outputs": [
    {
     "data": {
      "text/html": [
       "<div>\n",
       "<style scoped>\n",
       "    .dataframe tbody tr th:only-of-type {\n",
       "        vertical-align: middle;\n",
       "    }\n",
       "\n",
       "    .dataframe tbody tr th {\n",
       "        vertical-align: top;\n",
       "    }\n",
       "\n",
       "    .dataframe thead th {\n",
       "        text-align: right;\n",
       "    }\n",
       "</style>\n",
       "<table border=\"1\" class=\"dataframe\">\n",
       "  <thead>\n",
       "    <tr style=\"text-align: right;\">\n",
       "      <th></th>\n",
       "      <th>Id</th>\n",
       "      <th>Ekspor</th>\n",
       "      <th>Cadangan Devisa</th>\n",
       "      <th>IHSG</th>\n",
       "      <th>Selisih Pinjaman dan Simpanan</th>\n",
       "      <th>Suku Bunga Simpanan Riil</th>\n",
       "      <th>Selisih BI Rate Riil dan FED Rate Riil</th>\n",
       "      <th>Simpanan bank</th>\n",
       "      <th>Nilai Tukar Riil</th>\n",
       "      <th>Nilai Tukar Perdagangan</th>\n",
       "      <th>M1</th>\n",
       "      <th>M2/Cadangan Devisa</th>\n",
       "      <th>M2M</th>\n",
       "      <th>Krisis</th>\n",
       "    </tr>\n",
       "  </thead>\n",
       "  <tbody>\n",
       "    <tr>\n",
       "      <th>30</th>\n",
       "      <td>38</td>\n",
       "      <td>2958.0</td>\n",
       "      <td>12204.5</td>\n",
       "      <td>314.1</td>\n",
       "      <td>1.39</td>\n",
       "      <td>15.38</td>\n",
       "      <td>9.64</td>\n",
       "      <td>43.860656</td>\n",
       "      <td>509.62</td>\n",
       "      <td>1.3235</td>\n",
       "      <td>14.32</td>\n",
       "      <td>0.0049</td>\n",
       "      <td>86.97</td>\n",
       "      <td>0</td>\n",
       "    </tr>\n",
       "  </tbody>\n",
       "</table>\n",
       "</div>"
      ],
      "text/plain": [
       "    Id  Ekspor  Cadangan Devisa   IHSG  Selisih Pinjaman dan Simpanan  \\\n",
       "30  38  2958.0          12204.5  314.1                           1.39   \n",
       "\n",
       "    Suku Bunga Simpanan Riil  Selisih BI Rate Riil dan FED Rate Riil  \\\n",
       "30                     15.38                                    9.64   \n",
       "\n",
       "    Simpanan bank   Nilai Tukar Riil  Nilai Tukar Perdagangan     M1  \\\n",
       "30       43.860656            509.62                   1.3235  14.32   \n",
       "\n",
       "    M2/Cadangan Devisa    M2M  Krisis  \n",
       "30              0.0049  86.97       0  "
      ]
     },
     "execution_count": 22,
     "metadata": {},
     "output_type": "execute_result"
    }
   ],
   "source": [
    "Q1=df['M2M'].quantile(0.25)\n",
    "Q3=df['M2M'].quantile(0.75)\n",
    "IQR=Q3-Q1\n",
    "lower_range = Q1 -(1.5 * IQR)\n",
    "upper_range = Q3 +(1.5 * IQR)\n",
    "df.loc[(df['M2M']>upper_range),:]"
   ]
  },
  {
   "cell_type": "code",
   "execution_count": 23,
   "metadata": {},
   "outputs": [],
   "source": [
    "#Replace outlier observations with upper bound and lower bound\n",
    "df.loc[(df['M2M']>upper_range),'M2M']=upper_range\n",
    "df.loc[(df['M2M']<lower_range),'M2M']=lower_range"
   ]
  },
  {
   "cell_type": "code",
   "execution_count": 24,
   "metadata": {},
   "outputs": [
    {
     "name": "stdout",
     "output_type": "stream",
     "text": [
      "Number of Outlier 0\n"
     ]
    }
   ],
   "source": [
    "outlier(df['M2M'])"
   ]
  },
  {
   "cell_type": "code",
   "execution_count": 25,
   "metadata": {},
   "outputs": [],
   "source": [
    "#Separating categorical and numerical columns\n",
    "Id_col     = ['Id']\n",
    "target_col = ['Krisis']\n",
    "num_cols   = [x for x in df.columns if x not in target_col + Id_col]"
   ]
  },
  {
   "cell_type": "markdown",
   "metadata": {},
   "source": [
    "# Data Partition"
   ]
  },
  {
   "cell_type": "code",
   "execution_count": 26,
   "metadata": {},
   "outputs": [],
   "source": [
    "from sklearn.model_selection import train_test_split\n",
    "\n",
    "##partition data into data training and data testing\n",
    "train,test = train_test_split(df,test_size = .20 ,random_state = 112)\n",
    "    \n",
    "##seperating dependent and independent variables on training and testing data\n",
    "cols    = [i for i in df.columns if i not in Id_col + target_col]\n",
    "train_X = train[cols]\n",
    "train_Y = train[target_col]\n",
    "test_X  = test[cols]\n",
    "test_Y  = test[target_col]"
   ]
  },
  {
   "cell_type": "markdown",
   "metadata": {},
   "source": [
    "# SMOTE"
   ]
  },
  {
   "cell_type": "code",
   "execution_count": 27,
   "metadata": {},
   "outputs": [],
   "source": [
    "from imblearn.over_sampling import SMOTE\n",
    "\n",
    "#handle imbalance class using oversampling minority class with smote method\n",
    "os = SMOTE(sampling_strategy='minority',random_state = 123,k_neighbors=5)\n",
    "train_smote_X,train_smote_Y = os.fit_resample(train_X,train_Y)\n",
    "train_smote_X = pd.DataFrame(data = train_smote_X,columns=cols)\n",
    "train_smote_Y = pd.DataFrame(data = train_smote_Y,columns=target_col)"
   ]
  },
  {
   "cell_type": "code",
   "execution_count": 28,
   "metadata": {},
   "outputs": [
    {
     "data": {
      "text/plain": [
       "0    192\n",
       "1     24\n",
       "Name: Krisis, dtype: int64"
      ]
     },
     "execution_count": 28,
     "metadata": {},
     "output_type": "execute_result"
    }
   ],
   "source": [
    "#target column value count\n",
    "train_Y['Krisis'].value_counts()"
   ]
  },
  {
   "cell_type": "code",
   "execution_count": 29,
   "metadata": {},
   "outputs": [
    {
     "data": {
      "text/plain": [
       "1    192\n",
       "0    192\n",
       "Name: Krisis, dtype: int64"
      ]
     },
     "execution_count": 29,
     "metadata": {},
     "output_type": "execute_result"
    }
   ],
   "source": [
    "#Proportion after smote\n",
    "train_smote_Y['Krisis'].value_counts()"
   ]
  },
  {
   "cell_type": "markdown",
   "metadata": {},
   "source": [
    "# Logistic Regression"
   ]
  },
  {
   "cell_type": "code",
   "execution_count": 30,
   "metadata": {},
   "outputs": [
    {
     "name": "stderr",
     "output_type": "stream",
     "text": [
      "C:\\Users\\user\\anaconda3\\lib\\site-packages\\sklearn\\utils\\validation.py:63: DataConversionWarning: A column-vector y was passed when a 1d array was expected. Please change the shape of y to (n_samples, ), for example using ravel().\n",
      "  return f(*args, **kwargs)\n"
     ]
    },
    {
     "data": {
      "text/plain": [
       "LogisticRegression(penalty='l1', random_state=0, solver='liblinear')"
      ]
     },
     "execution_count": 30,
     "metadata": {},
     "output_type": "execute_result"
    }
   ],
   "source": [
    "from sklearn.linear_model import LogisticRegression\n",
    "classifier = LogisticRegression(random_state = 0, solver = 'liblinear',\n",
    "                                penalty = 'l1')\n",
    "classifier.fit(train_smote_X, train_smote_Y)"
   ]
  },
  {
   "cell_type": "markdown",
   "metadata": {},
   "source": [
    "### Evaluation"
   ]
  },
  {
   "cell_type": "code",
   "execution_count": 31,
   "metadata": {},
   "outputs": [],
   "source": [
    "pred_lg = classifier.predict(test_X)"
   ]
  },
  {
   "cell_type": "code",
   "execution_count": 32,
   "metadata": {},
   "outputs": [
    {
     "name": "stdout",
     "output_type": "stream",
     "text": [
      "Accuracy for Random Forest on CV data:  0.8703703703703703\n"
     ]
    }
   ],
   "source": [
    "from sklearn.metrics import accuracy_score\n",
    "print(\"Accuracy for Random Forest on CV data: \",accuracy_score(test_Y,pred_lg))"
   ]
  },
  {
   "cell_type": "code",
   "execution_count": 33,
   "metadata": {},
   "outputs": [
    {
     "data": {
      "text/plain": [
       "<AxesSubplot:>"
      ]
     },
     "execution_count": 33,
     "metadata": {},
     "output_type": "execute_result"
    },
    {
     "data": {
      "image/png": "[encoded data removed]",
      "text/plain": [
       "<Figure size 432x288 with 2 Axes>"
      ]
     },
     "metadata": {
      "needs_background": "light"
     },
     "output_type": "display_data"
    }
   ],
   "source": [
    "from sklearn.metrics import confusion_matrix\n",
    "CF_lg=confusion_matrix(test_Y, np.round(pred_lg))\n",
    "sns.heatmap(CF_lg, annot=True, cmap = 'Reds', fmt = 'g')"
   ]
  },
  {
   "cell_type": "code",
   "execution_count": 34,
   "metadata": {},
   "outputs": [
    {
     "name": "stdout",
     "output_type": "stream",
     "text": [
      "              precision    recall  f1-score   support\n",
      "\n",
      "          No       0.98      0.88      0.92        48\n",
      "         Yes       0.45      0.83      0.59         6\n",
      "\n",
      "    accuracy                           0.87        54\n",
      "   macro avg       0.72      0.85      0.76        54\n",
      "weighted avg       0.92      0.87      0.89        54\n",
      "\n"
     ]
    }
   ],
   "source": [
    "from sklearn.metrics import classification_report\n",
    "target_names = ['No','Yes']\n",
    "print(classification_report(test_Y, pred_lg, target_names=target_names))"
   ]
  },
  {
   "cell_type": "code",
   "execution_count": 35,
   "metadata": {},
   "outputs": [
    {
     "data": {
      "text/plain": [
       "0.8541666666666667"
      ]
     },
     "execution_count": 35,
     "metadata": {},
     "output_type": "execute_result"
    }
   ],
   "source": [
    "from sklearn.metrics import roc_auc_score\n",
    "roc_auc_score(test_Y,pred_lg)"
   ]
  },
  {
   "cell_type": "code",
   "execution_count": 36,
   "metadata": {},
   "outputs": [],
   "source": [
    "dp = pd.read_csv('predict.csv', sep=';')"
   ]
  },
  {
   "cell_type": "code",
   "execution_count": 37,
   "metadata": {},
   "outputs": [],
   "source": [
    "y_pred_new = classifier.predict(dp.drop(columns=['Id'], axis=1))"
   ]
  },
  {
   "cell_type": "code",
   "execution_count": 38,
   "metadata": {},
   "outputs": [],
   "source": [
    "dp['Krisis'] = y_pred_new\n",
    "submission = dp.loc[:, ['Id', 'Krisis']]\n",
    "submission.head()\n",
    "submission.to_csv('submission.csv', index=False, header=True)"
   ]
  },
  {
   "cell_type": "markdown",
   "metadata": {},
   "source": [
    "# Random Forest"
   ]
  },
  {
   "cell_type": "code",
   "execution_count": 39,
   "metadata": {},
   "outputs": [],
   "source": [
    "from sklearn.model_selection import GridSearchCV\n",
    "from sklearn.ensemble import RandomForestClassifier\n",
    "from sklearn.metrics import accuracy_score\n",
    "rfc=RandomForestClassifier(random_state=123)\n",
    "param_grid = { \n",
    "    'n_estimators': [200,500,1000],\n",
    "    'max_features': ['auto', 'log2'],\n",
    "    'criterion' :['entropy','gini']\n",
    "}"
   ]
  },
  {
   "cell_type": "code",
   "execution_count": 40,
   "metadata": {},
   "outputs": [
    {
     "name": "stderr",
     "output_type": "stream",
     "text": [
      "C:\\Users\\user\\anaconda3\\lib\\site-packages\\sklearn\\model_selection\\_validation.py:593: DataConversionWarning: A column-vector y was passed when a 1d array was expected. Please change the shape of y to (n_samples,), for example using ravel().\n",
      "  estimator.fit(X_train, y_train, **fit_params)\n",
      "C:\\Users\\user\\anaconda3\\lib\\site-packages\\sklearn\\model_selection\\_validation.py:593: DataConversionWarning: A column-vector y was passed when a 1d array was expected. Please change the shape of y to (n_samples,), for example using ravel().\n",
      "  estimator.fit(X_train, y_train, **fit_params)\n",
      "C:\\Users\\user\\anaconda3\\lib\\site-packages\\sklearn\\model_selection\\_validation.py:593: DataConversionWarning: A column-vector y was passed when a 1d array was expected. Please change the shape of y to (n_samples,), for example using ravel().\n",
      "  estimator.fit(X_train, y_train, **fit_params)\n",
      "C:\\Users\\user\\anaconda3\\lib\\site-packages\\sklearn\\model_selection\\_validation.py:593: DataConversionWarning: A column-vector y was passed when a 1d array was expected. Please change the shape of y to (n_samples,), for example using ravel().\n",
      "  estimator.fit(X_train, y_train, **fit_params)\n",
      "C:\\Users\\user\\anaconda3\\lib\\site-packages\\sklearn\\model_selection\\_validation.py:593: DataConversionWarning: A column-vector y was passed when a 1d array was expected. Please change the shape of y to (n_samples,), for example using ravel().\n",
      "  estimator.fit(X_train, y_train, **fit_params)\n",
      "C:\\Users\\user\\anaconda3\\lib\\site-packages\\sklearn\\model_selection\\_validation.py:593: DataConversionWarning: A column-vector y was passed when a 1d array was expected. Please change the shape of y to (n_samples,), for example using ravel().\n",
      "  estimator.fit(X_train, y_train, **fit_params)\n",
      "C:\\Users\\user\\anaconda3\\lib\\site-packages\\sklearn\\model_selection\\_validation.py:593: DataConversionWarning: A column-vector y was passed when a 1d array was expected. Please change the shape of y to (n_samples,), for example using ravel().\n",
      "  estimator.fit(X_train, y_train, **fit_params)\n",
      "C:\\Users\\user\\anaconda3\\lib\\site-packages\\sklearn\\model_selection\\_validation.py:593: DataConversionWarning: A column-vector y was passed when a 1d array was expected. Please change the shape of y to (n_samples,), for example using ravel().\n",
      "  estimator.fit(X_train, y_train, **fit_params)\n",
      "C:\\Users\\user\\anaconda3\\lib\\site-packages\\sklearn\\model_selection\\_validation.py:593: DataConversionWarning: A column-vector y was passed when a 1d array was expected. Please change the shape of y to (n_samples,), for example using ravel().\n",
      "  estimator.fit(X_train, y_train, **fit_params)\n",
      "C:\\Users\\user\\anaconda3\\lib\\site-packages\\sklearn\\model_selection\\_validation.py:593: DataConversionWarning: A column-vector y was passed when a 1d array was expected. Please change the shape of y to (n_samples,), for example using ravel().\n",
      "  estimator.fit(X_train, y_train, **fit_params)\n",
      "C:\\Users\\user\\anaconda3\\lib\\site-packages\\sklearn\\model_selection\\_validation.py:593: DataConversionWarning: A column-vector y was passed when a 1d array was expected. Please change the shape of y to (n_samples,), for example using ravel().\n",
      "  estimator.fit(X_train, y_train, **fit_params)\n",
      "C:\\Users\\user\\anaconda3\\lib\\site-packages\\sklearn\\model_selection\\_validation.py:593: DataConversionWarning: A column-vector y was passed when a 1d array was expected. Please change the shape of y to (n_samples,), for example using ravel().\n",
      "  estimator.fit(X_train, y_train, **fit_params)\n",
      "C:\\Users\\user\\anaconda3\\lib\\site-packages\\sklearn\\model_selection\\_validation.py:593: DataConversionWarning: A column-vector y was passed when a 1d array was expected. Please change the shape of y to (n_samples,), for example using ravel().\n",
      "  estimator.fit(X_train, y_train, **fit_params)\n",
      "C:\\Users\\user\\anaconda3\\lib\\site-packages\\sklearn\\model_selection\\_validation.py:593: DataConversionWarning: A column-vector y was passed when a 1d array was expected. Please change the shape of y to (n_samples,), for example using ravel().\n",
      "  estimator.fit(X_train, y_train, **fit_params)\n",
      "C:\\Users\\user\\anaconda3\\lib\\site-packages\\sklearn\\model_selection\\_validation.py:593: DataConversionWarning: A column-vector y was passed when a 1d array was expected. Please change the shape of y to (n_samples,), for example using ravel().\n",
      "  estimator.fit(X_train, y_train, **fit_params)\n",
      "C:\\Users\\user\\anaconda3\\lib\\site-packages\\sklearn\\model_selection\\_validation.py:593: DataConversionWarning: A column-vector y was passed when a 1d array was expected. Please change the shape of y to (n_samples,), for example using ravel().\n",
      "  estimator.fit(X_train, y_train, **fit_params)\n",
      "C:\\Users\\user\\anaconda3\\lib\\site-packages\\sklearn\\model_selection\\_validation.py:593: DataConversionWarning: A column-vector y was passed when a 1d array was expected. Please change the shape of y to (n_samples,), for example using ravel().\n",
      "  estimator.fit(X_train, y_train, **fit_params)\n",
      "C:\\Users\\user\\anaconda3\\lib\\site-packages\\sklearn\\model_selection\\_validation.py:593: DataConversionWarning: A column-vector y was passed when a 1d array was expected. Please change the shape of y to (n_samples,), for example using ravel().\n",
      "  estimator.fit(X_train, y_train, **fit_params)\n",
      "C:\\Users\\user\\anaconda3\\lib\\site-packages\\sklearn\\model_selection\\_validation.py:593: DataConversionWarning: A column-vector y was passed when a 1d array was expected. Please change the shape of y to (n_samples,), for example using ravel().\n",
      "  estimator.fit(X_train, y_train, **fit_params)\n",
      "C:\\Users\\user\\anaconda3\\lib\\site-packages\\sklearn\\model_selection\\_validation.py:593: DataConversionWarning: A column-vector y was passed when a 1d array was expected. Please change the shape of y to (n_samples,), for example using ravel().\n",
      "  estimator.fit(X_train, y_train, **fit_params)\n",
      "C:\\Users\\user\\anaconda3\\lib\\site-packages\\sklearn\\model_selection\\_validation.py:593: DataConversionWarning: A column-vector y was passed when a 1d array was expected. Please change the shape of y to (n_samples,), for example using ravel().\n",
      "  estimator.fit(X_train, y_train, **fit_params)\n",
      "C:\\Users\\user\\anaconda3\\lib\\site-packages\\sklearn\\model_selection\\_validation.py:593: DataConversionWarning: A column-vector y was passed when a 1d array was expected. Please change the shape of y to (n_samples,), for example using ravel().\n",
      "  estimator.fit(X_train, y_train, **fit_params)\n",
      "C:\\Users\\user\\anaconda3\\lib\\site-packages\\sklearn\\model_selection\\_validation.py:593: DataConversionWarning: A column-vector y was passed when a 1d array was expected. Please change the shape of y to (n_samples,), for example using ravel().\n",
      "  estimator.fit(X_train, y_train, **fit_params)\n",
      "C:\\Users\\user\\anaconda3\\lib\\site-packages\\sklearn\\model_selection\\_validation.py:593: DataConversionWarning: A column-vector y was passed when a 1d array was expected. Please change the shape of y to (n_samples,), for example using ravel().\n",
      "  estimator.fit(X_train, y_train, **fit_params)\n",
      "C:\\Users\\user\\anaconda3\\lib\\site-packages\\sklearn\\model_selection\\_search.py:880: DataConversionWarning: A column-vector y was passed when a 1d array was expected. Please change the shape of y to (n_samples,), for example using ravel().\n",
      "  self.best_estimator_.fit(X, y, **fit_params)\n"
     ]
    },
    {
     "data": {
      "text/plain": [
       "GridSearchCV(cv=2, estimator=RandomForestClassifier(random_state=123),\n",
       "             param_grid={'criterion': ['entropy', 'gini'],\n",
       "                         'max_features': ['auto', 'log2'],\n",
       "                         'n_estimators': [200, 500, 1000]})"
      ]
     },
     "execution_count": 40,
     "metadata": {},
     "output_type": "execute_result"
    }
   ],
   "source": [
    "CV_rfc = GridSearchCV(estimator=rfc, param_grid=param_grid, cv= 2)\n",
    "CV_rfc.fit(train_smote_X, train_smote_Y)"
   ]
  },
  {
   "cell_type": "code",
   "execution_count": 41,
   "metadata": {},
   "outputs": [
    {
     "data": {
      "text/plain": [
       "{'criterion': 'entropy', 'max_features': 'auto', 'n_estimators': 200}"
      ]
     },
     "execution_count": 41,
     "metadata": {},
     "output_type": "execute_result"
    }
   ],
   "source": [
    "CV_rfc.best_params_"
   ]
  },
  {
   "cell_type": "code",
   "execution_count": 42,
   "metadata": {},
   "outputs": [
    {
     "data": {
      "text/plain": [
       "0.9739583333333334"
      ]
     },
     "execution_count": 42,
     "metadata": {},
     "output_type": "execute_result"
    }
   ],
   "source": [
    "CV_rfc.best_score_"
   ]
  },
  {
   "cell_type": "code",
   "execution_count": 43,
   "metadata": {},
   "outputs": [],
   "source": [
    "pred_rf=CV_rfc.predict(test_X)"
   ]
  },
  {
   "cell_type": "code",
   "execution_count": 44,
   "metadata": {},
   "outputs": [
    {
     "name": "stdout",
     "output_type": "stream",
     "text": [
      "Accuracy for Random Forest on CV data:  1.0\n"
     ]
    }
   ],
   "source": [
    "print(\"Accuracy for Random Forest on CV data: \",accuracy_score(test_Y,pred_rf))"
   ]
  },
  {
   "cell_type": "code",
   "execution_count": 46,
   "metadata": {},
   "outputs": [
    {
     "data": {
      "text/plain": [
       "<AxesSubplot:>"
      ]
     },
     "execution_count": 46,
     "metadata": {},
     "output_type": "execute_result"
    },
    {
     "data": {
      "image/png": "[encoded data removed]",
      "text/plain": [
       "<Figure size 432x288 with 2 Axes>"
      ]
     },
     "metadata": {
      "needs_background": "light"
     },
     "output_type": "display_data"
    }
   ],
   "source": [
    "from sklearn.metrics import confusion_matrix\n",
    "CF_rfc=confusion_matrix(test_Y, pred_rf)\n",
    "sns.heatmap(CF_rfc, annot=True, cmap = 'Reds', fmt = 'g')"
   ]
  },
  {
   "cell_type": "code",
   "execution_count": 47,
   "metadata": {},
   "outputs": [
    {
     "name": "stdout",
     "output_type": "stream",
     "text": [
      "              precision    recall  f1-score   support\n",
      "\n",
      "          No       1.00      1.00      1.00        48\n",
      "         Yes       1.00      1.00      1.00         6\n",
      "\n",
      "    accuracy                           1.00        54\n",
      "   macro avg       1.00      1.00      1.00        54\n",
      "weighted avg       1.00      1.00      1.00        54\n",
      "\n"
     ]
    }
   ],
   "source": [
    "from sklearn.metrics import classification_report\n",
    "\n",
    "target_names = ['No','Yes']\n",
    "print(classification_report(test_Y, pred_rf, target_names=target_names))"
   ]
  },
  {
   "cell_type": "code",
   "execution_count": 48,
   "metadata": {},
   "outputs": [
    {
     "data": {
      "text/plain": [
       "1.0"
      ]
     },
     "execution_count": 48,
     "metadata": {},
     "output_type": "execute_result"
    }
   ],
   "source": [
    "from sklearn.metrics import roc_auc_score\n",
    "roc_auc_score(test_Y,pred_rf)"
   ]
  },
  {
   "cell_type": "code",
   "execution_count": 50,
   "metadata": {},
   "outputs": [
    {
     "data": {
      "text/plain": [
       "<matplotlib.legend.Legend at 0x2765f6cda30>"
      ]
     },
     "execution_count": 50,
     "metadata": {},
     "output_type": "execute_result"
    },
    {
     "data": {
      "image/png": "[encoded data removed]",
      "text/plain": [
       "<Figure size 432x288 with 1 Axes>"
      ]
     },
     "metadata": {
      "needs_background": "light"
     },
     "output_type": "display_data"
    }
   ],
   "source": [
    "from sklearn.metrics import roc_curve\n",
    "# Generate ROC curve values: fpr, tpr, thresholds\n",
    "fpr_lg, tpr_lg, thresholds_lg = roc_curve(test_Y, pred_lg)\n",
    "fpr_rf, tpr_rf, thresholds_rf = roc_curve(test_Y, pred_rf)\n",
    "# Plot ROC curve\n",
    "plt.plot([0, 1], [0, 1], 'k--')\n",
    "plt.plot(fpr_lg, tpr_lg, label = 'Logistic Regression')\n",
    "plt.plot(fpr_rf, tpr_rf, label = 'Random Forest')\n",
    "plt.xlabel('False Positive Rate')\n",
    "plt.ylabel('True Positive Rate')\n",
    "plt.title('ROC Curve')\n",
    "plt.legend()"
   ]
  },
  {
   "cell_type": "code",
   "execution_count": 51,
   "metadata": {},
   "outputs": [],
   "source": [
    "dp = pd.read_csv('predict.csv', sep=';')\n",
    "pred_rf_new = CV_rfc.predict(dp.drop(columns=['Id'],axis=1))"
   ]
  },
  {
   "cell_type": "code",
   "execution_count": 52,
   "metadata": {},
   "outputs": [],
   "source": [
    "dp['Krisis'] = pred_rf_new\n",
    "submission2 = dp.loc[:, ['Id', 'Krisis']]\n",
    "submission2\n",
    "submission2.to_csv('submission2.csv', index=False, header=True)"
   ]
  },
  {
   "cell_type": "code",
   "execution_count": 53,
   "metadata": {},
   "outputs": [
    {
     "data": {
      "text/html": [
       "<div>\n",
       "<style scoped>\n",
       "    .dataframe tbody tr th:only-of-type {\n",
       "        vertical-align: middle;\n",
       "    }\n",
       "\n",
       "    .dataframe tbody tr th {\n",
       "        vertical-align: top;\n",
       "    }\n",
       "\n",
       "    .dataframe thead th {\n",
       "        text-align: right;\n",
       "    }\n",
       "</style>\n",
       "<table border=\"1\" class=\"dataframe\">\n",
       "  <thead>\n",
       "    <tr style=\"text-align: right;\">\n",
       "      <th></th>\n",
       "      <th>Id</th>\n",
       "      <th>Krisis</th>\n",
       "    </tr>\n",
       "  </thead>\n",
       "  <tbody>\n",
       "    <tr>\n",
       "      <th>0</th>\n",
       "      <td>2</td>\n",
       "      <td>0</td>\n",
       "    </tr>\n",
       "    <tr>\n",
       "      <th>1</th>\n",
       "      <td>3</td>\n",
       "      <td>0</td>\n",
       "    </tr>\n",
       "    <tr>\n",
       "      <th>2</th>\n",
       "      <td>7</td>\n",
       "      <td>0</td>\n",
       "    </tr>\n",
       "    <tr>\n",
       "      <th>3</th>\n",
       "      <td>8</td>\n",
       "      <td>0</td>\n",
       "    </tr>\n",
       "    <tr>\n",
       "      <th>4</th>\n",
       "      <td>11</td>\n",
       "      <td>0</td>\n",
       "    </tr>\n",
       "    <tr>\n",
       "      <th>...</th>\n",
       "      <td>...</td>\n",
       "      <td>...</td>\n",
       "    </tr>\n",
       "    <tr>\n",
       "      <th>78</th>\n",
       "      <td>337</td>\n",
       "      <td>0</td>\n",
       "    </tr>\n",
       "    <tr>\n",
       "      <th>79</th>\n",
       "      <td>342</td>\n",
       "      <td>0</td>\n",
       "    </tr>\n",
       "    <tr>\n",
       "      <th>80</th>\n",
       "      <td>343</td>\n",
       "      <td>0</td>\n",
       "    </tr>\n",
       "    <tr>\n",
       "      <th>81</th>\n",
       "      <td>345</td>\n",
       "      <td>0</td>\n",
       "    </tr>\n",
       "    <tr>\n",
       "      <th>82</th>\n",
       "      <td>352</td>\n",
       "      <td>0</td>\n",
       "    </tr>\n",
       "  </tbody>\n",
       "</table>\n",
       "<p>83 rows × 2 columns</p>\n",
       "</div>"
      ],
      "text/plain": [
       "     Id  Krisis\n",
       "0     2       0\n",
       "1     3       0\n",
       "2     7       0\n",
       "3     8       0\n",
       "4    11       0\n",
       "..  ...     ...\n",
       "78  337       0\n",
       "79  342       0\n",
       "80  343       0\n",
       "81  345       0\n",
       "82  352       0\n",
       "\n",
       "[83 rows x 2 columns]"
      ]
     },
     "execution_count": 53,
     "metadata": {},
     "output_type": "execute_result"
    }
   ],
   "source": [
    "submission2"
   ]
  }
 ],
 "metadata": {
  "kernelspec": {
   "display_name": "Python 3",
   "language": "python",
   "name": "python3"
  },
  "language_info": {
   "codemirror_mode": {
    "name": "ipython",
    "version": 3
   },
   "file_extension": ".py",
   "mimetype": "text/x-python",
   "name": "python",
   "nbconvert_exporter": "python",
   "pygments_lexer": "ipython3",
   "version": "3.8.5"
  }
 },
 "nbformat": 4,
 "nbformat_minor": 4
}
